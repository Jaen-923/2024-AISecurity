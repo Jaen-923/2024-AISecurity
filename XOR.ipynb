{
  "cells": [
    {
      "cell_type": "markdown",
      "source": [
        "# XOR 구현:\n",
        "\n",
        "Multiple Layer Perceptron을 사용하여 XOR를 구현하기<br>\n",
        "activation function: 사용안함<br>\n",
        "XOR 모델을 class 형태로 구현할 것<br>\n",
        "Train 함수를 구현할 것<br>\n",
        "훈련된 XOR 모델을 통해 y를 출력하여, XOR gate의 출력을 만족하는지 확인하시오.<br>\n",
        "            * y가 0.5 이상은 1, 반대는 0으로 산출할 것"
      ],
      "metadata": {
        "id": "3WriV9ifW46x"
      },
      "id": "3WriV9ifW46x"
    },
    {
      "cell_type": "code",
      "source": [
        "import torch\n",
        "from torch import nn"
      ],
      "metadata": {
        "id": "EgrO12bdWw60"
      },
      "id": "EgrO12bdWw60",
      "execution_count": 348,
      "outputs": []
    },
    {
      "cell_type": "code",
      "source": [
        "X = torch.tensor([[0, 0], [0, 1], [1, 0], [1, 1]], dtype=torch.float)\n",
        "Y = torch.tensor([[0], [1], [1], [0]], dtype=torch.float)"
      ],
      "metadata": {
        "id": "L97vah9WYjVt"
      },
      "id": "L97vah9WYjVt",
      "execution_count": 349,
      "outputs": []
    },
    {
      "cell_type": "code",
      "source": [
        "class XOR_Model(nn.Module):\n",
        "    def __init__(self):\n",
        "        super(XOR_Model, self).__init__()\n",
        "        self.hidden_layer = nn.Linear(2, 4)\n",
        "        self.output_layer = nn.Linear(4, 1)\n",
        "\n",
        "    def forward(self, x):\n",
        "        x = self.hidden_layer(x)\n",
        "        x = self.output_layer(x)\n",
        "        return x"
      ],
      "metadata": {
        "id": "WMWXXiOGWxDY"
      },
      "id": "WMWXXiOGWxDY",
      "execution_count": 350,
      "outputs": []
    },
    {
      "cell_type": "code",
      "source": [
        "def train(model, X, Y):\n",
        "    loss_fn = nn.MSELoss()\n",
        "    optimizer = torch.optim.SGD(model.parameters(), lr=0.02)\n",
        "\n",
        "    epochs=9000\n",
        "    for epoch in range(1, epochs + 1):\n",
        "        optimizer.zero_grad()\n",
        "        hypothesis = model(X)\n",
        "        loss = loss_fn(hypothesis, Y)\n",
        "        loss.backward()\n",
        "        optimizer.step()\n",
        "\n",
        "        if epoch % 1000 == 0:\n",
        "            print(f'Epoch: {epoch}, Loss: {loss.item()}')\n"
      ],
      "metadata": {
        "id": "h4kaSlnkXRtQ"
      },
      "id": "h4kaSlnkXRtQ",
      "execution_count": 351,
      "outputs": []
    },
    {
      "cell_type": "code",
      "source": [
        "# 데이터 및 모델 초기화\n",
        "model = XOR_Model()"
      ],
      "metadata": {
        "id": "WJLqUT6SXR2E"
      },
      "id": "WJLqUT6SXR2E",
      "execution_count": 352,
      "outputs": []
    },
    {
      "cell_type": "code",
      "source": [
        "train(model, X, Y)"
      ],
      "metadata": {
        "colab": {
          "base_uri": "https://localhost:8080/"
        },
        "id": "QnZsiDnPXR9G",
        "outputId": "068147d4-84f4-4da7-ce58-cc6af1134373"
      },
      "id": "QnZsiDnPXR9G",
      "execution_count": 353,
      "outputs": [
        {
          "output_type": "stream",
          "name": "stdout",
          "text": [
            "Epoch: 1000, Loss: 0.25000184774398804\n",
            "Epoch: 2000, Loss: 0.25\n",
            "Epoch: 3000, Loss: 0.25\n",
            "Epoch: 4000, Loss: 0.2499999701976776\n",
            "Epoch: 5000, Loss: 0.2499999701976776\n",
            "Epoch: 6000, Loss: 0.2499999701976776\n",
            "Epoch: 7000, Loss: 0.2499999701976776\n",
            "Epoch: 8000, Loss: 0.2499999701976776\n",
            "Epoch: 9000, Loss: 0.2499999701976776\n"
          ]
        }
      ]
    },
    {
      "cell_type": "code",
      "source": [
        "# 훈련된 모델로 XOR 출력 확인\n",
        "def predict(x, model):\n",
        "    with torch.no_grad():\n",
        "        output = model(x)\n",
        "        if output.item() >= 0.5:\n",
        "            return 1\n",
        "        else:\n",
        "            return 0"
      ],
      "metadata": {
        "id": "cMck_kuKXcN3"
      },
      "id": "cMck_kuKXcN3",
      "execution_count": 354,
      "outputs": []
    },
    {
      "cell_type": "code",
      "source": [
        "def calculate_accuracy(model, X_test, Y_test):\n",
        "    correct = 0\n",
        "    total = 0\n",
        "    with torch.no_grad():\n",
        "        for x, y in zip(X_test, Y_test):\n",
        "            prediction = predict(x, model=model)\n",
        "            if prediction == y.item():\n",
        "                correct += 1\n",
        "            total += 1\n",
        "    accuracy = correct / total\n",
        "    return accuracy\n",
        "\n",
        "# 테스트 데이터에 대한 정확도 계산\n",
        "accuracy = calculate_accuracy(model, X, Y)\n",
        "print(f'테스트 데이터 정확도: {accuracy}')"
      ],
      "metadata": {
        "colab": {
          "base_uri": "https://localhost:8080/"
        },
        "id": "62gd6cFKJL0j",
        "outputId": "f0835c42-c6ee-4c7d-a825-87bb52fdc4a9"
      },
      "id": "62gd6cFKJL0j",
      "execution_count": 355,
      "outputs": [
        {
          "output_type": "stream",
          "name": "stdout",
          "text": [
            "테스트 데이터 정확도: 0.75\n"
          ]
        }
      ]
    },
    {
      "cell_type": "code",
      "source": [
        "print(\"XOR 구현\")\n",
        "for x in X:\n",
        "    print(x, model(x).item(),predict(x, model=model))"
      ],
      "metadata": {
        "colab": {
          "base_uri": "https://localhost:8080/"
        },
        "id": "vWO1JyoXXcQu",
        "outputId": "0453569a-211c-45a3-ccf7-c6f990f8ea99"
      },
      "id": "vWO1JyoXXcQu",
      "execution_count": 356,
      "outputs": [
        {
          "output_type": "stream",
          "name": "stdout",
          "text": [
            "XOR 구현\n",
            "tensor([0., 0.]) 0.5000021457672119 1\n",
            "tensor([0., 1.]) 0.5000000596046448 1\n",
            "tensor([1., 0.]) 0.5000002384185791 1\n",
            "tensor([1., 1.]) 0.4999980330467224 0\n"
          ]
        }
      ]
    }
  ],
  "metadata": {
    "colab": {
      "provenance": []
    },
    "language_info": {
      "name": "python"
    },
    "kernelspec": {
      "name": "python3",
      "display_name": "Python 3"
    }
  },
  "nbformat": 4,
  "nbformat_minor": 5
}